{
  "cells": [
    {
      "cell_type": "markdown",
      "metadata": {
        "id": "k47Pl4G07imR"
      },
      "source": [
        "# **Artificial Intelligence Project**\n",
        "## Email Spam Recognition "
      ]
    },
    {
      "cell_type": "markdown",
      "metadata": {
        "id": "7RjZokVsYinr"
      },
      "source": [
        "The final project consists of a prototype of email spam recognition based on Machine Learning techniques.\n",
        "\n",
        "For this experiment we consider the dataset \"Spam Assassin\" that contains about 6000 bodies of emails with an associated label (1 for Spam, 0 for Ham).\n",
        "\n",
        "First of all we import all the libraries that we need for manipulating the dataset, making computations, plotting and so on."
      ]
    },
    {
      "cell_type": "code",
      "execution_count": null,
      "metadata": {
        "id": "6EK0plap88Jo"
      },
      "outputs": [],
      "source": [
        "# Library for importing the dataset\n",
        "import pandas as pd\n",
        "\n",
        "# Libraries for manipulate numbers\n",
        "import numpy as np\n",
        "import scipy as sp\n",
        "from scipy import sparse\n",
        "\n",
        "# Library for plotting\n",
        "import matplotlib.pyplot as plt\n",
        "\n",
        "# Library Natural Language ToolKit for tokenize email bodies, import set of\n",
        "# stopwords and stemming\n",
        "import nltk\n",
        "from nltk.corpus import stopwords\n",
        "from nltk.tokenize import word_tokenize\n",
        "\n",
        "# Libraries for manipulating strings\n",
        "import re\n",
        "import string\n",
        "\n",
        "# Classes from Scikit Learn Library\n",
        "from sklearn.feature_extraction.text import TfidfVectorizer\n",
        "from sklearn.feature_extraction.text import CountVectorizer\n",
        "from sklearn.model_selection import KFold\n",
        "from sklearn.tree import DecisionTreeClassifier\n",
        "from sklearn.neural_network import MLPClassifier\n",
        "from sklearn.metrics import confusion_matrix\n",
        "from nltk.stem.snowball import SnowballStemmer\n",
        "from sklearn.feature_selection import mutual_info_classif\n",
        "from sklearn.metrics import roc_curve, auc\n",
        "\n",
        "from google.colab import files"
      ]
    },
    {
      "cell_type": "markdown",
      "metadata": {
        "id": "0KwJ2ZuuL1c-"
      },
      "source": [
        "# **First step**\n",
        "We first load the dataset (completeSpamAssassin) and we explore the structure dropping a useless void column. We check also the shape, the name of the columns and we see what's inside the dataset.\n",
        "\n",
        "The spam emails are classified as '1' instead ham emails are classified as '0'.\n"
      ]
    },
    {
      "cell_type": "code",
      "execution_count": null,
      "metadata": {
        "colab": {
          "base_uri": "https://localhost:8080/"
        },
        "id": "0k0sgtWpHOTr",
        "outputId": "29874042-8c14-45bd-e0e0-ca7827dd82e8"
      },
      "outputs": [
        {
          "output_type": "stream",
          "name": "stdout",
          "text": [
            "Mounted at /content/drive\n"
          ]
        }
      ],
      "source": [
        "from google.colab import drive\n",
        "drive.mount('/content/drive')"
      ]
    },
    {
      "cell_type": "code",
      "execution_count": null,
      "metadata": {
        "id": "vfVks_F8HcRT",
        "colab": {
          "base_uri": "https://localhost:8080/",
          "height": 359
        },
        "outputId": "07abb8cd-7f55-4fe8-d236-0e2da3985d5a"
      },
      "outputs": [
        {
          "output_type": "error",
          "ename": "FileNotFoundError",
          "evalue": "ignored",
          "traceback": [
            "\u001b[0;31m---------------------------------------------------------------------------\u001b[0m",
            "\u001b[0;31mFileNotFoundError\u001b[0m                         Traceback (most recent call last)",
            "\u001b[0;32m<ipython-input-3-6f089803eb74>\u001b[0m in \u001b[0;36m<cell line: 2>\u001b[0;34m()\u001b[0m\n\u001b[1;32m      1\u001b[0m \u001b[0;31m# Load the dataset\u001b[0m\u001b[0;34m\u001b[0m\u001b[0;34m\u001b[0m\u001b[0m\n\u001b[0;32m----> 2\u001b[0;31m \u001b[0mdataset\u001b[0m \u001b[0;34m=\u001b[0m \u001b[0mpd\u001b[0m\u001b[0;34m.\u001b[0m\u001b[0mread_csv\u001b[0m\u001b[0;34m(\u001b[0m\u001b[0;34m\"drive/MyDrive/completeSpamAssassin.csv\"\u001b[0m\u001b[0;34m)\u001b[0m\u001b[0;34m\u001b[0m\u001b[0;34m\u001b[0m\u001b[0m\n\u001b[0m\u001b[1;32m      3\u001b[0m \u001b[0mdataset\u001b[0m\u001b[0;34m.\u001b[0m\u001b[0mdrop\u001b[0m\u001b[0;34m(\u001b[0m\u001b[0;34m'Unnamed: 0'\u001b[0m\u001b[0;34m,\u001b[0m \u001b[0minplace\u001b[0m\u001b[0;34m=\u001b[0m\u001b[0;32mTrue\u001b[0m\u001b[0;34m,\u001b[0m \u001b[0maxis\u001b[0m\u001b[0;34m=\u001b[0m\u001b[0;36m1\u001b[0m\u001b[0;34m)\u001b[0m\u001b[0;34m\u001b[0m\u001b[0;34m\u001b[0m\u001b[0m\n",
            "\u001b[0;32m/usr/local/lib/python3.9/dist-packages/pandas/util/_decorators.py\u001b[0m in \u001b[0;36mwrapper\u001b[0;34m(*args, **kwargs)\u001b[0m\n\u001b[1;32m    209\u001b[0m                 \u001b[0;32melse\u001b[0m\u001b[0;34m:\u001b[0m\u001b[0;34m\u001b[0m\u001b[0;34m\u001b[0m\u001b[0m\n\u001b[1;32m    210\u001b[0m                     \u001b[0mkwargs\u001b[0m\u001b[0;34m[\u001b[0m\u001b[0mnew_arg_name\u001b[0m\u001b[0;34m]\u001b[0m \u001b[0;34m=\u001b[0m \u001b[0mnew_arg_value\u001b[0m\u001b[0;34m\u001b[0m\u001b[0;34m\u001b[0m\u001b[0m\n\u001b[0;32m--> 211\u001b[0;31m             \u001b[0;32mreturn\u001b[0m \u001b[0mfunc\u001b[0m\u001b[0;34m(\u001b[0m\u001b[0;34m*\u001b[0m\u001b[0margs\u001b[0m\u001b[0;34m,\u001b[0m \u001b[0;34m**\u001b[0m\u001b[0mkwargs\u001b[0m\u001b[0;34m)\u001b[0m\u001b[0;34m\u001b[0m\u001b[0;34m\u001b[0m\u001b[0m\n\u001b[0m\u001b[1;32m    212\u001b[0m \u001b[0;34m\u001b[0m\u001b[0m\n\u001b[1;32m    213\u001b[0m         \u001b[0;32mreturn\u001b[0m \u001b[0mcast\u001b[0m\u001b[0;34m(\u001b[0m\u001b[0mF\u001b[0m\u001b[0;34m,\u001b[0m \u001b[0mwrapper\u001b[0m\u001b[0;34m)\u001b[0m\u001b[0;34m\u001b[0m\u001b[0;34m\u001b[0m\u001b[0m\n",
            "\u001b[0;32m/usr/local/lib/python3.9/dist-packages/pandas/util/_decorators.py\u001b[0m in \u001b[0;36mwrapper\u001b[0;34m(*args, **kwargs)\u001b[0m\n\u001b[1;32m    329\u001b[0m                     \u001b[0mstacklevel\u001b[0m\u001b[0;34m=\u001b[0m\u001b[0mfind_stack_level\u001b[0m\u001b[0;34m(\u001b[0m\u001b[0;34m)\u001b[0m\u001b[0;34m,\u001b[0m\u001b[0;34m\u001b[0m\u001b[0;34m\u001b[0m\u001b[0m\n\u001b[1;32m    330\u001b[0m                 )\n\u001b[0;32m--> 331\u001b[0;31m             \u001b[0;32mreturn\u001b[0m \u001b[0mfunc\u001b[0m\u001b[0;34m(\u001b[0m\u001b[0;34m*\u001b[0m\u001b[0margs\u001b[0m\u001b[0;34m,\u001b[0m \u001b[0;34m**\u001b[0m\u001b[0mkwargs\u001b[0m\u001b[0;34m)\u001b[0m\u001b[0;34m\u001b[0m\u001b[0;34m\u001b[0m\u001b[0m\n\u001b[0m\u001b[1;32m    332\u001b[0m \u001b[0;34m\u001b[0m\u001b[0m\n\u001b[1;32m    333\u001b[0m         \u001b[0;31m# error: \"Callable[[VarArg(Any), KwArg(Any)], Any]\" has no\u001b[0m\u001b[0;34m\u001b[0m\u001b[0;34m\u001b[0m\u001b[0m\n",
            "\u001b[0;32m/usr/local/lib/python3.9/dist-packages/pandas/io/parsers/readers.py\u001b[0m in \u001b[0;36mread_csv\u001b[0;34m(filepath_or_buffer, sep, delimiter, header, names, index_col, usecols, squeeze, prefix, mangle_dupe_cols, dtype, engine, converters, true_values, false_values, skipinitialspace, skiprows, skipfooter, nrows, na_values, keep_default_na, na_filter, verbose, skip_blank_lines, parse_dates, infer_datetime_format, keep_date_col, date_parser, dayfirst, cache_dates, iterator, chunksize, compression, thousands, decimal, lineterminator, quotechar, quoting, doublequote, escapechar, comment, encoding, encoding_errors, dialect, error_bad_lines, warn_bad_lines, on_bad_lines, delim_whitespace, low_memory, memory_map, float_precision, storage_options)\u001b[0m\n\u001b[1;32m    948\u001b[0m     \u001b[0mkwds\u001b[0m\u001b[0;34m.\u001b[0m\u001b[0mupdate\u001b[0m\u001b[0;34m(\u001b[0m\u001b[0mkwds_defaults\u001b[0m\u001b[0;34m)\u001b[0m\u001b[0;34m\u001b[0m\u001b[0;34m\u001b[0m\u001b[0m\n\u001b[1;32m    949\u001b[0m \u001b[0;34m\u001b[0m\u001b[0m\n\u001b[0;32m--> 950\u001b[0;31m     \u001b[0;32mreturn\u001b[0m \u001b[0m_read\u001b[0m\u001b[0;34m(\u001b[0m\u001b[0mfilepath_or_buffer\u001b[0m\u001b[0;34m,\u001b[0m \u001b[0mkwds\u001b[0m\u001b[0;34m)\u001b[0m\u001b[0;34m\u001b[0m\u001b[0;34m\u001b[0m\u001b[0m\n\u001b[0m\u001b[1;32m    951\u001b[0m \u001b[0;34m\u001b[0m\u001b[0m\n\u001b[1;32m    952\u001b[0m \u001b[0;34m\u001b[0m\u001b[0m\n",
            "\u001b[0;32m/usr/local/lib/python3.9/dist-packages/pandas/io/parsers/readers.py\u001b[0m in \u001b[0;36m_read\u001b[0;34m(filepath_or_buffer, kwds)\u001b[0m\n\u001b[1;32m    603\u001b[0m \u001b[0;34m\u001b[0m\u001b[0m\n\u001b[1;32m    604\u001b[0m     \u001b[0;31m# Create the parser.\u001b[0m\u001b[0;34m\u001b[0m\u001b[0;34m\u001b[0m\u001b[0m\n\u001b[0;32m--> 605\u001b[0;31m     \u001b[0mparser\u001b[0m \u001b[0;34m=\u001b[0m \u001b[0mTextFileReader\u001b[0m\u001b[0;34m(\u001b[0m\u001b[0mfilepath_or_buffer\u001b[0m\u001b[0;34m,\u001b[0m \u001b[0;34m**\u001b[0m\u001b[0mkwds\u001b[0m\u001b[0;34m)\u001b[0m\u001b[0;34m\u001b[0m\u001b[0;34m\u001b[0m\u001b[0m\n\u001b[0m\u001b[1;32m    606\u001b[0m \u001b[0;34m\u001b[0m\u001b[0m\n\u001b[1;32m    607\u001b[0m     \u001b[0;32mif\u001b[0m \u001b[0mchunksize\u001b[0m \u001b[0;32mor\u001b[0m \u001b[0miterator\u001b[0m\u001b[0;34m:\u001b[0m\u001b[0;34m\u001b[0m\u001b[0;34m\u001b[0m\u001b[0m\n",
            "\u001b[0;32m/usr/local/lib/python3.9/dist-packages/pandas/io/parsers/readers.py\u001b[0m in \u001b[0;36m__init__\u001b[0;34m(self, f, engine, **kwds)\u001b[0m\n\u001b[1;32m   1440\u001b[0m \u001b[0;34m\u001b[0m\u001b[0m\n\u001b[1;32m   1441\u001b[0m         \u001b[0mself\u001b[0m\u001b[0;34m.\u001b[0m\u001b[0mhandles\u001b[0m\u001b[0;34m:\u001b[0m \u001b[0mIOHandles\u001b[0m \u001b[0;34m|\u001b[0m \u001b[0;32mNone\u001b[0m \u001b[0;34m=\u001b[0m \u001b[0;32mNone\u001b[0m\u001b[0;34m\u001b[0m\u001b[0;34m\u001b[0m\u001b[0m\n\u001b[0;32m-> 1442\u001b[0;31m         \u001b[0mself\u001b[0m\u001b[0;34m.\u001b[0m\u001b[0m_engine\u001b[0m \u001b[0;34m=\u001b[0m \u001b[0mself\u001b[0m\u001b[0;34m.\u001b[0m\u001b[0m_make_engine\u001b[0m\u001b[0;34m(\u001b[0m\u001b[0mf\u001b[0m\u001b[0;34m,\u001b[0m \u001b[0mself\u001b[0m\u001b[0;34m.\u001b[0m\u001b[0mengine\u001b[0m\u001b[0;34m)\u001b[0m\u001b[0;34m\u001b[0m\u001b[0;34m\u001b[0m\u001b[0m\n\u001b[0m\u001b[1;32m   1443\u001b[0m \u001b[0;34m\u001b[0m\u001b[0m\n\u001b[1;32m   1444\u001b[0m     \u001b[0;32mdef\u001b[0m \u001b[0mclose\u001b[0m\u001b[0;34m(\u001b[0m\u001b[0mself\u001b[0m\u001b[0;34m)\u001b[0m \u001b[0;34m->\u001b[0m \u001b[0;32mNone\u001b[0m\u001b[0;34m:\u001b[0m\u001b[0;34m\u001b[0m\u001b[0;34m\u001b[0m\u001b[0m\n",
            "\u001b[0;32m/usr/local/lib/python3.9/dist-packages/pandas/io/parsers/readers.py\u001b[0m in \u001b[0;36m_make_engine\u001b[0;34m(self, f, engine)\u001b[0m\n\u001b[1;32m   1733\u001b[0m                 \u001b[0;32mif\u001b[0m \u001b[0;34m\"b\"\u001b[0m \u001b[0;32mnot\u001b[0m \u001b[0;32min\u001b[0m \u001b[0mmode\u001b[0m\u001b[0;34m:\u001b[0m\u001b[0;34m\u001b[0m\u001b[0;34m\u001b[0m\u001b[0m\n\u001b[1;32m   1734\u001b[0m                     \u001b[0mmode\u001b[0m \u001b[0;34m+=\u001b[0m \u001b[0;34m\"b\"\u001b[0m\u001b[0;34m\u001b[0m\u001b[0;34m\u001b[0m\u001b[0m\n\u001b[0;32m-> 1735\u001b[0;31m             self.handles = get_handle(\n\u001b[0m\u001b[1;32m   1736\u001b[0m                 \u001b[0mf\u001b[0m\u001b[0;34m,\u001b[0m\u001b[0;34m\u001b[0m\u001b[0;34m\u001b[0m\u001b[0m\n\u001b[1;32m   1737\u001b[0m                 \u001b[0mmode\u001b[0m\u001b[0;34m,\u001b[0m\u001b[0;34m\u001b[0m\u001b[0;34m\u001b[0m\u001b[0m\n",
            "\u001b[0;32m/usr/local/lib/python3.9/dist-packages/pandas/io/common.py\u001b[0m in \u001b[0;36mget_handle\u001b[0;34m(path_or_buf, mode, encoding, compression, memory_map, is_text, errors, storage_options)\u001b[0m\n\u001b[1;32m    854\u001b[0m         \u001b[0;32mif\u001b[0m \u001b[0mioargs\u001b[0m\u001b[0;34m.\u001b[0m\u001b[0mencoding\u001b[0m \u001b[0;32mand\u001b[0m \u001b[0;34m\"b\"\u001b[0m \u001b[0;32mnot\u001b[0m \u001b[0;32min\u001b[0m \u001b[0mioargs\u001b[0m\u001b[0;34m.\u001b[0m\u001b[0mmode\u001b[0m\u001b[0;34m:\u001b[0m\u001b[0;34m\u001b[0m\u001b[0;34m\u001b[0m\u001b[0m\n\u001b[1;32m    855\u001b[0m             \u001b[0;31m# Encoding\u001b[0m\u001b[0;34m\u001b[0m\u001b[0;34m\u001b[0m\u001b[0m\n\u001b[0;32m--> 856\u001b[0;31m             handle = open(\n\u001b[0m\u001b[1;32m    857\u001b[0m                 \u001b[0mhandle\u001b[0m\u001b[0;34m,\u001b[0m\u001b[0;34m\u001b[0m\u001b[0;34m\u001b[0m\u001b[0m\n\u001b[1;32m    858\u001b[0m                 \u001b[0mioargs\u001b[0m\u001b[0;34m.\u001b[0m\u001b[0mmode\u001b[0m\u001b[0;34m,\u001b[0m\u001b[0;34m\u001b[0m\u001b[0;34m\u001b[0m\u001b[0m\n",
            "\u001b[0;31mFileNotFoundError\u001b[0m: [Errno 2] No such file or directory: 'drive/MyDrive/completeSpamAssassin.csv'"
          ]
        }
      ],
      "source": [
        "# Load the dataset\n",
        "dataset = pd.read_csv(\"drive/MyDrive/completeSpamAssassin.csv\")\n",
        "dataset.drop('Unnamed: 0', inplace=True, axis=1)"
      ]
    },
    {
      "cell_type": "code",
      "execution_count": null,
      "metadata": {
        "id": "IdwnICptFWAQ"
      },
      "outputs": [],
      "source": [
        "# Print the shape of the dataset (rows, columns)\n",
        "dataset.shape"
      ]
    },
    {
      "cell_type": "code",
      "execution_count": null,
      "metadata": {
        "colab": {
          "base_uri": "https://localhost:8080/"
        },
        "id": "lH7fNYeXFaEf",
        "outputId": "d7b2ae91-7168-46c2-98fd-8b25da20621d"
      },
      "outputs": [
        {
          "output_type": "execute_result",
          "data": {
            "text/plain": [
              "Index(['Body', 'Label'], dtype='object')"
            ]
          },
          "metadata": {},
          "execution_count": 5
        }
      ],
      "source": [
        "# Get the columns names\n",
        "dataset.columns"
      ]
    },
    {
      "cell_type": "code",
      "execution_count": null,
      "metadata": {
        "colab": {
          "base_uri": "https://localhost:8080/",
          "height": 423
        },
        "id": "LKunfoAchqK9",
        "outputId": "cfb930f5-0eb9-4414-9891-a03c61f068a7"
      },
      "outputs": [
        {
          "output_type": "execute_result",
          "data": {
            "text/plain": [
              "                                                   Body  Label\n",
              "0     \\nSave up to 70% on Life Insurance.\\nWhy Spend...      1\n",
              "1     1) Fight The Risk of Cancer!\\nhttp://www.adcli...      1\n",
              "2     1) Fight The Risk of Cancer!\\nhttp://www.adcli...      1\n",
              "3     ##############################################...      1\n",
              "4     I thought you might like these:\\n1) Slim Down ...      1\n",
              "...                                                 ...    ...\n",
              "6041                                              empty      0\n",
              "6042                    ___           ___           ...      0\n",
              "6043  IN THIS ISSUE:01. Readers write\\n02. Extension...      0\n",
              "6044                                              empty      0\n",
              "6045                                              empty      0\n",
              "\n",
              "[6046 rows x 2 columns]"
            ],
            "text/html": [
              "\n",
              "  <div id=\"df-b286f3ff-f0cd-49f3-9253-15f0445ad077\">\n",
              "    <div class=\"colab-df-container\">\n",
              "      <div>\n",
              "<style scoped>\n",
              "    .dataframe tbody tr th:only-of-type {\n",
              "        vertical-align: middle;\n",
              "    }\n",
              "\n",
              "    .dataframe tbody tr th {\n",
              "        vertical-align: top;\n",
              "    }\n",
              "\n",
              "    .dataframe thead th {\n",
              "        text-align: right;\n",
              "    }\n",
              "</style>\n",
              "<table border=\"1\" class=\"dataframe\">\n",
              "  <thead>\n",
              "    <tr style=\"text-align: right;\">\n",
              "      <th></th>\n",
              "      <th>Body</th>\n",
              "      <th>Label</th>\n",
              "    </tr>\n",
              "  </thead>\n",
              "  <tbody>\n",
              "    <tr>\n",
              "      <th>0</th>\n",
              "      <td>\\nSave up to 70% on Life Insurance.\\nWhy Spend...</td>\n",
              "      <td>1</td>\n",
              "    </tr>\n",
              "    <tr>\n",
              "      <th>1</th>\n",
              "      <td>1) Fight The Risk of Cancer!\\nhttp://www.adcli...</td>\n",
              "      <td>1</td>\n",
              "    </tr>\n",
              "    <tr>\n",
              "      <th>2</th>\n",
              "      <td>1) Fight The Risk of Cancer!\\nhttp://www.adcli...</td>\n",
              "      <td>1</td>\n",
              "    </tr>\n",
              "    <tr>\n",
              "      <th>3</th>\n",
              "      <td>##############################################...</td>\n",
              "      <td>1</td>\n",
              "    </tr>\n",
              "    <tr>\n",
              "      <th>4</th>\n",
              "      <td>I thought you might like these:\\n1) Slim Down ...</td>\n",
              "      <td>1</td>\n",
              "    </tr>\n",
              "    <tr>\n",
              "      <th>...</th>\n",
              "      <td>...</td>\n",
              "      <td>...</td>\n",
              "    </tr>\n",
              "    <tr>\n",
              "      <th>6041</th>\n",
              "      <td>empty</td>\n",
              "      <td>0</td>\n",
              "    </tr>\n",
              "    <tr>\n",
              "      <th>6042</th>\n",
              "      <td>___           ___           ...</td>\n",
              "      <td>0</td>\n",
              "    </tr>\n",
              "    <tr>\n",
              "      <th>6043</th>\n",
              "      <td>IN THIS ISSUE:01. Readers write\\n02. Extension...</td>\n",
              "      <td>0</td>\n",
              "    </tr>\n",
              "    <tr>\n",
              "      <th>6044</th>\n",
              "      <td>empty</td>\n",
              "      <td>0</td>\n",
              "    </tr>\n",
              "    <tr>\n",
              "      <th>6045</th>\n",
              "      <td>empty</td>\n",
              "      <td>0</td>\n",
              "    </tr>\n",
              "  </tbody>\n",
              "</table>\n",
              "<p>6046 rows × 2 columns</p>\n",
              "</div>\n",
              "      <button class=\"colab-df-convert\" onclick=\"convertToInteractive('df-b286f3ff-f0cd-49f3-9253-15f0445ad077')\"\n",
              "              title=\"Convert this dataframe to an interactive table.\"\n",
              "              style=\"display:none;\">\n",
              "        \n",
              "  <svg xmlns=\"http://www.w3.org/2000/svg\" height=\"24px\"viewBox=\"0 0 24 24\"\n",
              "       width=\"24px\">\n",
              "    <path d=\"M0 0h24v24H0V0z\" fill=\"none\"/>\n",
              "    <path d=\"M18.56 5.44l.94 2.06.94-2.06 2.06-.94-2.06-.94-.94-2.06-.94 2.06-2.06.94zm-11 1L8.5 8.5l.94-2.06 2.06-.94-2.06-.94L8.5 2.5l-.94 2.06-2.06.94zm10 10l.94 2.06.94-2.06 2.06-.94-2.06-.94-.94-2.06-.94 2.06-2.06.94z\"/><path d=\"M17.41 7.96l-1.37-1.37c-.4-.4-.92-.59-1.43-.59-.52 0-1.04.2-1.43.59L10.3 9.45l-7.72 7.72c-.78.78-.78 2.05 0 2.83L4 21.41c.39.39.9.59 1.41.59.51 0 1.02-.2 1.41-.59l7.78-7.78 2.81-2.81c.8-.78.8-2.07 0-2.86zM5.41 20L4 18.59l7.72-7.72 1.47 1.35L5.41 20z\"/>\n",
              "  </svg>\n",
              "      </button>\n",
              "      \n",
              "  <style>\n",
              "    .colab-df-container {\n",
              "      display:flex;\n",
              "      flex-wrap:wrap;\n",
              "      gap: 12px;\n",
              "    }\n",
              "\n",
              "    .colab-df-convert {\n",
              "      background-color: #E8F0FE;\n",
              "      border: none;\n",
              "      border-radius: 50%;\n",
              "      cursor: pointer;\n",
              "      display: none;\n",
              "      fill: #1967D2;\n",
              "      height: 32px;\n",
              "      padding: 0 0 0 0;\n",
              "      width: 32px;\n",
              "    }\n",
              "\n",
              "    .colab-df-convert:hover {\n",
              "      background-color: #E2EBFA;\n",
              "      box-shadow: 0px 1px 2px rgba(60, 64, 67, 0.3), 0px 1px 3px 1px rgba(60, 64, 67, 0.15);\n",
              "      fill: #174EA6;\n",
              "    }\n",
              "\n",
              "    [theme=dark] .colab-df-convert {\n",
              "      background-color: #3B4455;\n",
              "      fill: #D2E3FC;\n",
              "    }\n",
              "\n",
              "    [theme=dark] .colab-df-convert:hover {\n",
              "      background-color: #434B5C;\n",
              "      box-shadow: 0px 1px 3px 1px rgba(0, 0, 0, 0.15);\n",
              "      filter: drop-shadow(0px 1px 2px rgba(0, 0, 0, 0.3));\n",
              "      fill: #FFFFFF;\n",
              "    }\n",
              "  </style>\n",
              "\n",
              "      <script>\n",
              "        const buttonEl =\n",
              "          document.querySelector('#df-b286f3ff-f0cd-49f3-9253-15f0445ad077 button.colab-df-convert');\n",
              "        buttonEl.style.display =\n",
              "          google.colab.kernel.accessAllowed ? 'block' : 'none';\n",
              "\n",
              "        async function convertToInteractive(key) {\n",
              "          const element = document.querySelector('#df-b286f3ff-f0cd-49f3-9253-15f0445ad077');\n",
              "          const dataTable =\n",
              "            await google.colab.kernel.invokeFunction('convertToInteractive',\n",
              "                                                     [key], {});\n",
              "          if (!dataTable) return;\n",
              "\n",
              "          const docLinkHtml = 'Like what you see? Visit the ' +\n",
              "            '<a target=\"_blank\" href=https://colab.research.google.com/notebooks/data_table.ipynb>data table notebook</a>'\n",
              "            + ' to learn more about interactive tables.';\n",
              "          element.innerHTML = '';\n",
              "          dataTable['output_type'] = 'display_data';\n",
              "          await google.colab.output.renderOutput(dataTable, element);\n",
              "          const docLink = document.createElement('div');\n",
              "          docLink.innerHTML = docLinkHtml;\n",
              "          element.appendChild(docLink);\n",
              "        }\n",
              "      </script>\n",
              "    </div>\n",
              "  </div>\n",
              "  "
            ]
          },
          "metadata": {},
          "execution_count": 6
        }
      ],
      "source": [
        "# Print the first five rows of the dataset\n",
        "dataset"
      ]
    },
    {
      "cell_type": "markdown",
      "metadata": {
        "id": "ukCfZaJ6MhGA"
      },
      "source": [
        "# **Second Step**\n",
        "This step is a preliminary phase. We must delete the punctuation, URLs and numbers from each email body of the dataset.\n",
        "\n",
        "Then we remove stopwords from each email body and we make a stemming for reducing words to their roots.\n",
        "\n",
        "Finally we obtain a list of email bodies which is filtered from punctuation, URLs, numbers and stopwords and verbal forms.\n",
        "\n",
        "\n"
      ]
    },
    {
      "cell_type": "code",
      "execution_count": null,
      "metadata": {
        "colab": {
          "base_uri": "https://localhost:8080/"
        },
        "id": "J__gXovRV8Hu",
        "outputId": "e6092413-2cdf-4e98-94e2-5b7f973a4a4f"
      },
      "outputs": [
        {
          "output_type": "stream",
          "name": "stderr",
          "text": [
            "[nltk_data] Downloading package punkt to /root/nltk_data...\n",
            "[nltk_data]   Unzipping tokenizers/punkt.zip.\n",
            "[nltk_data] Downloading package stopwords to /root/nltk_data...\n",
            "[nltk_data]   Unzipping corpora/stopwords.zip.\n"
          ]
        }
      ],
      "source": [
        "# Download of set of punctuation and stopwords\n",
        "nltk.download('punkt')\n",
        "nltk.download('stopwords')\n",
        "\n",
        "# This function allow us to remove URLs, punctuation, newlines and tokenize\n",
        "# the email bodies. Furthermore it removes stopwords and make the stemming\n",
        "\n",
        "def pre_processing_data(text):\n",
        "  # Remove URLs\n",
        "  text = re.sub(r\"http\\S+\", \"\", text)\n",
        "\n",
        "  # Remove punctuation\n",
        "  text = re.sub(r'[^\\w\\s]','',text)\n",
        "\n",
        "  # Remove newlines\n",
        "  text = re.sub(r'\\n', ' ', text)\n",
        "\n",
        "  # Remove numbers\n",
        "  text = re.sub(r'[0-9]', '', text)\n",
        "\n",
        "  # Tokenize\n",
        "  tokens = nltk.word_tokenize(text)\n",
        "\n",
        "  # Remove stopwords and stem\n",
        "  stop_words = set(stopwords.words('english'))\n",
        "  stemmer = SnowballStemmer('english')\n",
        "  tokens = [stemmer.stem(token.lower()) for token in tokens if token.lower() not in stop_words]\n",
        "\n",
        "  # Join tokens into a single string\n",
        "  text = ' '.join(tokens)\n",
        "    \n",
        "  return text"
      ]
    },
    {
      "cell_type": "code",
      "execution_count": null,
      "metadata": {
        "id": "AVepjPwiJF1M"
      },
      "outputs": [],
      "source": [
        "# Remove NULL and empty values\n",
        "dataset = dataset.dropna()\n",
        "dataset = dataset[~dataset['Body'].str.lower().str.contains('empty')]"
      ]
    },
    {
      "cell_type": "code",
      "execution_count": null,
      "metadata": {
        "colab": {
          "base_uri": "https://localhost:8080/"
        },
        "id": "HntQFkKNmEBj",
        "outputId": "12b94f33-d13b-47ba-dbd5-ada765057f55"
      },
      "outputs": [
        {
          "output_type": "stream",
          "name": "stdout",
          "text": [
            "5456\n",
            "5456\n"
          ]
        }
      ],
      "source": [
        "# Apply the function defined before\n",
        "data = dataset['Body'].apply(pre_processing_data).tolist()\n",
        "labels = dataset['Label'].tolist()\n",
        "\n",
        "# Print the length of data and labels for seeing if they are equal\n",
        "print(len(data))\n",
        "print(len(labels))"
      ]
    },
    {
      "cell_type": "markdown",
      "metadata": {
        "id": "Wrl2Px4yPVZJ"
      },
      "source": [
        "# **Third step**\n",
        "In this step we apply the 5-fold cross-validation on the data set. We randomly subdivide it into 5 disjoint subsets of identical size.\n",
        "\n",
        "First of all we compute the information gain using mutual_info_classif class of scikit-learn library passing the training fold vectorized by the CountVectorizer. In this way we can extract the N more influent words of the training fold.\n",
        "\n",
        "The information gain formula used is the following:\n",
        "\n",
        "![ig.png](data:image/png;base64,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)\n",
        "\n",
        "Then we compute the N-dimensional feature vector.\n",
        "\n",
        "After we have obtained the N-dimensional feature vector for the training fold and testing fold we fit the classifier and then we pass data that has never seen before to see how many times it makes wrong classification.\n",
        "\n",
        "Finally we have computed the misclassification rate, saving at each iteration the number of misclassifications and divide at the end for the total number of predictions done. We also plot the ROC curve for each value of feature taken into account."
      ]
    },
    {
      "cell_type": "markdown",
      "metadata": {
        "id": "UDOrxblj-OLL"
      },
      "source": [
        "## Implementation with Decision Tree Classifier"
      ]
    },
    {
      "cell_type": "code",
      "source": [
        "# Initialize CountVectorizer\n",
        "vectorizer = CountVectorizer()\n",
        "\n",
        "# Number of folds\n",
        "k = 5\n",
        "\n",
        "# Number of features to take into account\n",
        "N_features = [100, 500, 1000]\n",
        "\n",
        "# Perform 5-fold cross-validation\n",
        "kf = KFold(n_splits=k, shuffle=True, random_state=42)\n",
        "\n",
        "misclassification_rates = []\n",
        "\n",
        "for N in N_features:\n",
        "  misclassified = 0\n",
        "  print(\"Processing for N =\", N)\n",
        "  for i, (train_index, test_index) in enumerate(kf.split(data)):\n",
        "      # Separate training and test fold\n",
        "      X_train, X_test = np.array(data)[train_index], np.array(data)[test_index]\n",
        "      y_train, y_test = np.array(labels)[train_index], np.array(labels)[test_index]\n",
        "\n",
        "      # fit CountVectorizer on training data\n",
        "      vectorizer.fit(X_train, y_train)\n",
        "\n",
        "      # Extract the information gain IG\n",
        "      if N==100:\n",
        "        feature_scores = mutual_info_classif(vectorizer.transform(X_train), y_train)\n",
        "        feature_words = [word for _, word in sorted(zip(feature_scores, vectorizer.get_feature_names_out()), reverse=True)[:100]]\n",
        "\n",
        "      if N==500:\n",
        "        feature_words.extend([word for _, word in sorted(zip(feature_scores, vectorizer.get_feature_names_out()), reverse=True)[100:499]])\n",
        "\n",
        "      if N==1000:\n",
        "        feature_words.extend([word for _, word in sorted(zip(feature_scores, vectorizer.get_feature_names_out()), reverse=True)[500:999]])\n",
        "\n",
        "      # Compute the N-dimensional feature vector for training and testing folders\n",
        "      train_features = vectorizer.transform(X_train)\n",
        "      train_features = [[1 if word in email.split() else 0 for word in feature_words] for email in X_train]\n",
        "      test_features = vectorizer.transform(X_test)\n",
        "      test_features = [[1 if word in email.split() else 0 for word in feature_words] for email in X_test]\n",
        "\n",
        "      # Print the shape of the feature matrices for this fold\n",
        "      print(f'Fold {i+1} processed [{(i+1)*100//k}%]')\n",
        "      print('X_train shape:', len(train_features))\n",
        "      print('X_test shape:', len(test_features))\n",
        "\n",
        "      # Train decision tree on training data and evaluate on testing data\n",
        "      clf = DecisionTreeClassifier(criterion='log_loss', max_depth=70)\n",
        "      clf.fit(train_features, y_train)\n",
        "      predictions = clf.predict(test_features)\n",
        "      misclassified += (confusion_matrix(y_test, predictions)[0,1] + confusion_matrix(y_test, predictions)[1,0])\n",
        "      tn, fp, fn, tp = confusion_matrix([0, 1, 0, 1], [1, 1, 1, 0]).ravel()\n",
        "\n",
        "  # Compute misclassification rate\n",
        "  misclassification_rate = misclassified/len(test_features)\n",
        "  print(f\"Misclassification rate: {misclassification_rate}\")\n",
        "  misclassification_rates.append(misclassification_rate)\n",
        "\n",
        "  # Compute the false positive rate and true positive rate at various threshold values\n",
        "  fpr, tpr, thresholds = roc_curve(y_test, predictions)\n",
        "\n",
        "  # Compute the AUC (area under the curve) of the ROC curve\n",
        "  roc_auc = auc(fpr, tpr)\n",
        "\n",
        "  # Plot the ROC curve\n",
        "  %matplotlib inline\n",
        "  plt.plot(fpr, tpr, label='ROC curve (AUC = %0.2f)' % roc_auc)\n",
        "  plt.plot([0, 1], [0, 1], color='red', linestyle='--')\n",
        "  plt.xlabel('False Positive Rate')\n",
        "  plt.ylabel('True Positive Rate')\n",
        "  plt.title('ROC Curve, N='+str(N)+'- Decision Tree')\n",
        "  plt.grid()\n",
        "  plt.legend(loc=\"lower right\")\n",
        "  plt.savefig('ROC_DT_'+str(N)+'.pdf', bbox_inches='tight')\n",
        "  files.download('ROC_DT_'+str(N)+'.pdf')\n",
        "  plt.show()\n",
        "  "
      ],
      "metadata": {
        "colab": {
          "base_uri": "https://localhost:8080/",
          "height": 1000
        },
        "id": "vdg_EpOCgRG5",
        "outputId": "4319e171-674a-4318-d52a-ae077c907756"
      },
      "execution_count": null,
      "outputs": [
        {
          "output_type": "stream",
          "name": "stdout",
          "text": [
            "Processing for N = 100\n",
            "Fold 1 processed [20%]\n",
            "X_train shape: 4364\n",
            "X_test shape: 1092\n",
            "Fold 2 processed [40%]\n",
            "X_train shape: 4365\n",
            "X_test shape: 1091\n",
            "Fold 3 processed [60%]\n",
            "X_train shape: 4365\n",
            "X_test shape: 1091\n",
            "Fold 4 processed [80%]\n",
            "X_train shape: 4365\n",
            "X_test shape: 1091\n",
            "Fold 5 processed [100%]\n",
            "X_train shape: 4365\n",
            "X_test shape: 1091\n",
            "Misclassification rate: 0.31072410632447295\n"
          ]
        },
        {
          "output_type": "display_data",
          "data": {
            "text/plain": [
              "<IPython.core.display.Javascript object>"
            ],
            "application/javascript": [
              "\n",
              "    async function download(id, filename, size) {\n",
              "      if (!google.colab.kernel.accessAllowed) {\n",
              "        return;\n",
              "      }\n",
              "      const div = document.createElement('div');\n",
              "      const label = document.createElement('label');\n",
              "      label.textContent = `Downloading \"${filename}\": `;\n",
              "      div.appendChild(label);\n",
              "      const progress = document.createElement('progress');\n",
              "      progress.max = size;\n",
              "      div.appendChild(progress);\n",
              "      document.body.appendChild(div);\n",
              "\n",
              "      const buffers = [];\n",
              "      let downloaded = 0;\n",
              "\n",
              "      const channel = await google.colab.kernel.comms.open(id);\n",
              "      // Send a message to notify the kernel that we're ready.\n",
              "      channel.send({})\n",
              "\n",
              "      for await (const message of channel.messages) {\n",
              "        // Send a message to notify the kernel that we're ready.\n",
              "        channel.send({})\n",
              "        if (message.buffers) {\n",
              "          for (const buffer of message.buffers) {\n",
              "            buffers.push(buffer);\n",
              "            downloaded += buffer.byteLength;\n",
              "            progress.value = downloaded;\n",
              "          }\n",
              "        }\n",
              "      }\n",
              "      const blob = new Blob(buffers, {type: 'application/binary'});\n",
              "      const a = document.createElement('a');\n",
              "      a.href = window.URL.createObjectURL(blob);\n",
              "      a.download = filename;\n",
              "      div.appendChild(a);\n",
              "      a.click();\n",
              "      div.remove();\n",
              "    }\n",
              "  "
            ]
          },
          "metadata": {}
        },
        {
          "output_type": "display_data",
          "data": {
            "text/plain": [
              "<IPython.core.display.Javascript object>"
            ],
            "application/javascript": [
              "download(\"download_104ebf8d-c83f-4e84-a9e0-db80a43fb8df\", \"ROC_DT_100.pdf\", 14340)"
            ]
          },
          "metadata": {}
        },
        {
          "output_type": "display_data",
          "data": {
            "text/plain": [
              "<Figure size 432x288 with 1 Axes>"
            ],
            "image/png": "[encoded data removed]"
          },
          "metadata": {
            "needs_background": "light"
          }
        },
        {
          "output_type": "stream",
          "name": "stdout",
          "text": [
            "Processing for N = 500\n",
            "Fold 1 processed [20%]\n",
            "X_train shape: 4364\n",
            "X_test shape: 1092\n",
            "Fold 2 processed [40%]\n",
            "X_train shape: 4365\n",
            "X_test shape: 1091\n",
            "Fold 3 processed [60%]\n",
            "X_train shape: 4365\n",
            "X_test shape: 1091\n",
            "Fold 4 processed [80%]\n",
            "X_train shape: 4365\n",
            "X_test shape: 1091\n",
            "Fold 5 processed [100%]\n",
            "X_train shape: 4365\n",
            "X_test shape: 1091\n",
            "Misclassification rate: 0.30339138405132904\n"
          ]
        },
        {
          "output_type": "display_data",
          "data": {
            "text/plain": [
              "<IPython.core.display.Javascript object>"
            ],
            "application/javascript": [
              "\n",
              "    async function download(id, filename, size) {\n",
              "      if (!google.colab.kernel.accessAllowed) {\n",
              "        return;\n",
              "      }\n",
              "      const div = document.createElement('div');\n",
              "      const label = document.createElement('label');\n",
              "      label.textContent = `Downloading \"${filename}\": `;\n",
              "      div.appendChild(label);\n",
              "      const progress = document.createElement('progress');\n",
              "      progress.max = size;\n",
              "      div.appendChild(progress);\n",
              "      document.body.appendChild(div);\n",
              "\n",
              "      const buffers = [];\n",
              "      let downloaded = 0;\n",
              "\n",
              "      const channel = await google.colab.kernel.comms.open(id);\n",
              "      // Send a message to notify the kernel that we're ready.\n",
              "      channel.send({})\n",
              "\n",
              "      for await (const message of channel.messages) {\n",
              "        // Send a message to notify the kernel that we're ready.\n",
              "        channel.send({})\n",
              "        if (message.buffers) {\n",
              "          for (const buffer of message.buffers) {\n",
              "            buffers.push(buffer);\n",
              "            downloaded += buffer.byteLength;\n",
              "            progress.value = downloaded;\n",
              "          }\n",
              "        }\n",
              "      }\n",
              "      const blob = new Blob(buffers, {type: 'application/binary'});\n",
              "      const a = document.createElement('a');\n",
              "      a.href = window.URL.createObjectURL(blob);\n",
              "      a.download = filename;\n",
              "      div.appendChild(a);\n",
              "      a.click();\n",
              "      div.remove();\n",
              "    }\n",
              "  "
            ]
          },
          "metadata": {}
        },
        {
          "output_type": "display_data",
          "data": {
            "text/plain": [
              "<IPython.core.display.Javascript object>"
            ],
            "application/javascript": [
              "download(\"download_26fa5023-8034-4687-9735-67d881168f50\", \"ROC_DT_500.pdf\", 14248)"
            ]
          },
          "metadata": {}
        },
        {
          "output_type": "display_data",
          "data": {
            "text/plain": [
              "<Figure size 432x288 with 1 Axes>"
            ],
            "image/png": "[encoded data removed]"
          },
          "metadata": {
            "needs_background": "light"
          }
        },
        {
          "output_type": "stream",
          "name": "stdout",
          "text": [
            "Processing for N = 1000\n",
            "Fold 1 processed [20%]\n",
            "X_train shape: 4364\n",
            "X_test shape: 1092\n",
            "Fold 2 processed [40%]\n",
            "X_train shape: 4365\n",
            "X_test shape: 1091\n",
            "Fold 3 processed [60%]\n",
            "X_train shape: 4365\n",
            "X_test shape: 1091\n",
            "Fold 4 processed [80%]\n",
            "X_train shape: 4365\n",
            "X_test shape: 1091\n",
            "Fold 5 processed [100%]\n",
            "X_train shape: 4365\n",
            "X_test shape: 1091\n",
            "Misclassification rate: 0.30980751604032997\n"
          ]
        },
        {
          "output_type": "display_data",
          "data": {
            "text/plain": [
              "<IPython.core.display.Javascript object>"
            ],
            "application/javascript": [
              "\n",
              "    async function download(id, filename, size) {\n",
              "      if (!google.colab.kernel.accessAllowed) {\n",
              "        return;\n",
              "      }\n",
              "      const div = document.createElement('div');\n",
              "      const label = document.createElement('label');\n",
              "      label.textContent = `Downloading \"${filename}\": `;\n",
              "      div.appendChild(label);\n",
              "      const progress = document.createElement('progress');\n",
              "      progress.max = size;\n",
              "      div.appendChild(progress);\n",
              "      document.body.appendChild(div);\n",
              "\n",
              "      const buffers = [];\n",
              "      let downloaded = 0;\n",
              "\n",
              "      const channel = await google.colab.kernel.comms.open(id);\n",
              "      // Send a message to notify the kernel that we're ready.\n",
              "      channel.send({})\n",
              "\n",
              "      for await (const message of channel.messages) {\n",
              "        // Send a message to notify the kernel that we're ready.\n",
              "        channel.send({})\n",
              "        if (message.buffers) {\n",
              "          for (const buffer of message.buffers) {\n",
              "            buffers.push(buffer);\n",
              "            downloaded += buffer.byteLength;\n",
              "            progress.value = downloaded;\n",
              "          }\n",
              "        }\n",
              "      }\n",
              "      const blob = new Blob(buffers, {type: 'application/binary'});\n",
              "      const a = document.createElement('a');\n",
              "      a.href = window.URL.createObjectURL(blob);\n",
              "      a.download = filename;\n",
              "      div.appendChild(a);\n",
              "      a.click();\n",
              "      div.remove();\n",
              "    }\n",
              "  "
            ]
          },
          "metadata": {}
        },
        {
          "output_type": "display_data",
          "data": {
            "text/plain": [
              "<IPython.core.display.Javascript object>"
            ],
            "application/javascript": [
              "download(\"download_481900b1-7d9d-460e-b8c5-7f02324d8af5\", \"ROC_DT_1000.pdf\", 13887)"
            ]
          },
          "metadata": {}
        },
        {
          "output_type": "display_data",
          "data": {
            "text/plain": [
              "<Figure size 432x288 with 1 Axes>"
            ],
            "image/png": "[encoded data removed]"
          },
          "metadata": {
            "needs_background": "light"
          }
        }
      ]
    },
    {
      "cell_type": "code",
      "execution_count": null,
      "metadata": {
        "colab": {
          "base_uri": "https://localhost:8080/",
          "height": 295
        },
        "id": "zNcOzgjUE2hu",
        "outputId": "792014f2-d146-4c94-e16c-1b804e7e1c28"
      },
      "outputs": [
        {
          "output_type": "display_data",
          "data": {
            "text/plain": [
              "<IPython.core.display.Javascript object>"
            ],
            "application/javascript": [
              "\n",
              "    async function download(id, filename, size) {\n",
              "      if (!google.colab.kernel.accessAllowed) {\n",
              "        return;\n",
              "      }\n",
              "      const div = document.createElement('div');\n",
              "      const label = document.createElement('label');\n",
              "      label.textContent = `Downloading \"${filename}\": `;\n",
              "      div.appendChild(label);\n",
              "      const progress = document.createElement('progress');\n",
              "      progress.max = size;\n",
              "      div.appendChild(progress);\n",
              "      document.body.appendChild(div);\n",
              "\n",
              "      const buffers = [];\n",
              "      let downloaded = 0;\n",
              "\n",
              "      const channel = await google.colab.kernel.comms.open(id);\n",
              "      // Send a message to notify the kernel that we're ready.\n",
              "      channel.send({})\n",
              "\n",
              "      for await (const message of channel.messages) {\n",
              "        // Send a message to notify the kernel that we're ready.\n",
              "        channel.send({})\n",
              "        if (message.buffers) {\n",
              "          for (const buffer of message.buffers) {\n",
              "            buffers.push(buffer);\n",
              "            downloaded += buffer.byteLength;\n",
              "            progress.value = downloaded;\n",
              "          }\n",
              "        }\n",
              "      }\n",
              "      const blob = new Blob(buffers, {type: 'application/binary'});\n",
              "      const a = document.createElement('a');\n",
              "      a.href = window.URL.createObjectURL(blob);\n",
              "      a.download = filename;\n",
              "      div.appendChild(a);\n",
              "      a.click();\n",
              "      div.remove();\n",
              "    }\n",
              "  "
            ]
          },
          "metadata": {}
        },
        {
          "output_type": "display_data",
          "data": {
            "text/plain": [
              "<IPython.core.display.Javascript object>"
            ],
            "application/javascript": [
              "download(\"download_53e6bc47-0d34-4496-8d26-7d8c20e5fa61\", \"decision_tree_misclassification.pdf\", 14727)"
            ]
          },
          "metadata": {}
        },
        {
          "output_type": "display_data",
          "data": {
            "text/plain": [
              "<Figure size 432x288 with 1 Axes>"
            ],
            "image/png": "[encoded data removed]"
          },
          "metadata": {
            "needs_background": "light"
          }
        }
      ],
      "source": [
        "misclassification_rates_percent = [100*item for item in misclassification_rates]\n",
        "%matplotlib inline\n",
        "# Create a figure and axis\n",
        "fig = plt.figure()\n",
        "\n",
        "# Plot the data\n",
        "plt.plot(N_features, misclassification_rates_percent)\n",
        "\n",
        "# Add labels and title\n",
        "plt.xlabel('Number of features')\n",
        "plt.ylabel('Misclassification rate [%]')\n",
        "plt.title('Percentual of misclassified samples - Decision Tree')\n",
        "\n",
        "# Display the plot\n",
        "plt.grid()\n",
        "plt.savefig('decision_tree_misclassification.pdf', bbox_inches='tight')\n",
        "files.download('decision_tree_misclassification.pdf')\n",
        "plt.show()"
      ]
    },
    {
      "cell_type": "markdown",
      "metadata": {
        "id": "30OFygFD-v5l"
      },
      "source": [
        "##Implementation with an Artificial Neural Network\n",
        "\n",
        "The Artificial Neural Network is composed of three layers:\n",
        "The input layer which has N nodes, 1 node for each feature of the email.\n",
        "The second layer is an hidden layer which has a number of nodes equale to the square root of N.\n",
        "The final layer is the output layer which has just 1 node.\n",
        "\n",
        "\n",
        "\n"
      ]
    },
    {
      "cell_type": "code",
      "source": [
        "# Initialize CountVectorizer\n",
        "vectorizer = CountVectorizer()\n",
        "\n",
        "# Number of folds\n",
        "k = 5\n",
        "\n",
        "# Number of features to take into account\n",
        "N_features = [100, 500, 1000]\n",
        "\n",
        "# Perform 5-fold cross-validation\n",
        "kf = KFold(n_splits=k, shuffle=True, random_state=42)\n",
        "\n",
        "misclassification_rates = []\n",
        "\n",
        "for N in N_features:\n",
        "  misclassified = 0\n",
        "  print(\"Processing for N =\", N)\n",
        "  for i, (train_index, test_index) in enumerate(kf.split(data)):\n",
        "      # Separate training and test fold\n",
        "      X_train, X_test = np.array(data)[train_index], np.array(data)[test_index]\n",
        "      y_train, y_test = np.array(labels)[train_index], np.array(labels)[test_index]\n",
        "\n",
        "      # fit CountVectorizer on training data\n",
        "      vectorizer.fit(X_train, y_train)\n",
        "\n",
        "      # Extract the information gain IG\n",
        "      if N==100:\n",
        "        feature_scores = mutual_info_classif(vectorizer.transform(X_train), y_train)\n",
        "        feature_words = [word for _, word in sorted(zip(feature_scores, vectorizer.get_feature_names_out()), reverse=True)[:100]]\n",
        "\n",
        "      if N==500:\n",
        "        feature_words.extend([word for _, word in sorted(zip(feature_scores, vectorizer.get_feature_names_out()), reverse=True)[100:499]])\n",
        "\n",
        "      if N==1000:\n",
        "        feature_words.extend([word for _, word in sorted(zip(feature_scores, vectorizer.get_feature_names_out()), reverse=True)[500:999]])\n",
        "\n",
        "      # Compute the N-dimensional feature vector for training and testing folders\n",
        "      train_features = vectorizer.transform(X_train)\n",
        "      train_features = [[1 if word in email.split() else 0 for word in feature_words] for email in X_train]\n",
        "      test_features = vectorizer.transform(X_test)\n",
        "      test_features = [[1 if word in email.split() else 0 for word in feature_words] for email in X_test]\n",
        "\n",
        "      # Print the shape of the feature matrices for this fold\n",
        "      print(f'Fold {i+1} processed [{(i+1)*100//k}%]')\n",
        "      print('X_train shape:', len(train_features))\n",
        "      print('X_test shape:', len(test_features))\n",
        "\n",
        "      # Train neural network on training data and evaluate on testing data\n",
        "      # We set the number of epochs to 1000\n",
        "      mlp = MLPClassifier(hidden_layer_sizes=(int(np.ceil(np.sqrt(N))),), activation='logistic', max_iter=1000)\n",
        "      mlp.fit(train_features, y_train)\n",
        "      predictions = mlp.predict(test_features)\n",
        "      misclassified += (confusion_matrix(y_test, predictions)[0,1] + confusion_matrix(y_test, predictions)[1,0])\n",
        "      tn, fp, fn, tp = confusion_matrix([0, 1, 0, 1], [1, 1, 1, 0]).ravel()\n",
        "\n",
        "  # Compute misclassification rate\n",
        "  misclassification_rate = misclassified/len(test_features)\n",
        "  print(f\"Misclassification rate: {misclassification_rate}\")\n",
        "  misclassification_rates.append(misclassification_rate)\n",
        "\n",
        "  # Compute the false positive rate and true positive rate at various threshold values\n",
        "  fpr, tpr, thresholds = roc_curve(y_test, predictions)\n",
        "\n",
        "  # Compute the AUC (area under the curve) of the ROC curve\n",
        "  roc_auc = auc(fpr, tpr)\n",
        "\n",
        "  # Plot the ROC curve\n",
        "  %matplotlib inline\n",
        "  plt.plot(fpr, tpr, label='ROC curve (AUC = %0.2f)' % roc_auc)\n",
        "  plt.plot([0, 1], [0, 1], color='red', linestyle='--')\n",
        "  plt.xlabel('False Positive Rate')\n",
        "  plt.ylabel('True Positive Rate')\n",
        "  plt.title('ROC Curve, N='+str(N)+'- Neural Network')\n",
        "  plt.legend(loc=\"lower right\")\n",
        "  plt.grid()\n",
        "  plt.savefig('ROC_NN_'+str(N)+'.pdf', bbox_inches='tight')\n",
        "  files.download('ROC_NN_'+str(N)+'.pdf')\n",
        "  plt.show()\n",
        "  "
      ],
      "metadata": {
        "colab": {
          "base_uri": "https://localhost:8080/",
          "height": 1000
        },
        "id": "X0e-cxBK5uPl",
        "outputId": "db634d07-1eaa-447a-9704-d791104b4977"
      },
      "execution_count": null,
      "outputs": [
        {
          "output_type": "stream",
          "name": "stdout",
          "text": [
            "Processing for N = 100\n",
            "Fold 1 processed [20%]\n",
            "X_train shape: 4364\n",
            "X_test shape: 1092\n",
            "Fold 2 processed [40%]\n",
            "X_train shape: 4365\n",
            "X_test shape: 1091\n",
            "Fold 3 processed [60%]\n",
            "X_train shape: 4365\n",
            "X_test shape: 1091\n",
            "Fold 4 processed [80%]\n",
            "X_train shape: 4365\n",
            "X_test shape: 1091\n",
            "Fold 5 processed [100%]\n",
            "X_train shape: 4365\n",
            "X_test shape: 1091\n",
            "Misclassification rate: 0.22548120989917506\n"
          ]
        },
        {
          "output_type": "display_data",
          "data": {
            "text/plain": [
              "<IPython.core.display.Javascript object>"
            ],
            "application/javascript": [
              "\n",
              "    async function download(id, filename, size) {\n",
              "      if (!google.colab.kernel.accessAllowed) {\n",
              "        return;\n",
              "      }\n",
              "      const div = document.createElement('div');\n",
              "      const label = document.createElement('label');\n",
              "      label.textContent = `Downloading \"${filename}\": `;\n",
              "      div.appendChild(label);\n",
              "      const progress = document.createElement('progress');\n",
              "      progress.max = size;\n",
              "      div.appendChild(progress);\n",
              "      document.body.appendChild(div);\n",
              "\n",
              "      const buffers = [];\n",
              "      let downloaded = 0;\n",
              "\n",
              "      const channel = await google.colab.kernel.comms.open(id);\n",
              "      // Send a message to notify the kernel that we're ready.\n",
              "      channel.send({})\n",
              "\n",
              "      for await (const message of channel.messages) {\n",
              "        // Send a message to notify the kernel that we're ready.\n",
              "        channel.send({})\n",
              "        if (message.buffers) {\n",
              "          for (const buffer of message.buffers) {\n",
              "            buffers.push(buffer);\n",
              "            downloaded += buffer.byteLength;\n",
              "            progress.value = downloaded;\n",
              "          }\n",
              "        }\n",
              "      }\n",
              "      const blob = new Blob(buffers, {type: 'application/binary'});\n",
              "      const a = document.createElement('a');\n",
              "      a.href = window.URL.createObjectURL(blob);\n",
              "      a.download = filename;\n",
              "      div.appendChild(a);\n",
              "      a.click();\n",
              "      div.remove();\n",
              "    }\n",
              "  "
            ]
          },
          "metadata": {}
        },
        {
          "output_type": "display_data",
          "data": {
            "text/plain": [
              "<IPython.core.display.Javascript object>"
            ],
            "application/javascript": [
              "download(\"download_503f1140-c22e-4570-bd72-70c684e8e551\", \"ROC_NN_100.pdf\", 14074)"
            ]
          },
          "metadata": {}
        },
        {
          "output_type": "display_data",
          "data": {
            "text/plain": [
              "<Figure size 432x288 with 1 Axes>"
            ],
            "image/png": "[encoded data removed]"
          },
          "metadata": {
            "needs_background": "light"
          }
        },
        {
          "output_type": "stream",
          "name": "stdout",
          "text": [
            "Processing for N = 500\n",
            "Fold 1 processed [20%]\n",
            "X_train shape: 4364\n",
            "X_test shape: 1092\n",
            "Fold 2 processed [40%]\n",
            "X_train shape: 4365\n",
            "X_test shape: 1091\n",
            "Fold 3 processed [60%]\n",
            "X_train shape: 4365\n",
            "X_test shape: 1091\n",
            "Fold 4 processed [80%]\n",
            "X_train shape: 4365\n",
            "X_test shape: 1091\n",
            "Fold 5 processed [100%]\n",
            "X_train shape: 4365\n",
            "X_test shape: 1091\n",
            "Misclassification rate: 0.17873510540788268\n"
          ]
        },
        {
          "output_type": "display_data",
          "data": {
            "text/plain": [
              "<IPython.core.display.Javascript object>"
            ],
            "application/javascript": [
              "\n",
              "    async function download(id, filename, size) {\n",
              "      if (!google.colab.kernel.accessAllowed) {\n",
              "        return;\n",
              "      }\n",
              "      const div = document.createElement('div');\n",
              "      const label = document.createElement('label');\n",
              "      label.textContent = `Downloading \"${filename}\": `;\n",
              "      div.appendChild(label);\n",
              "      const progress = document.createElement('progress');\n",
              "      progress.max = size;\n",
              "      div.appendChild(progress);\n",
              "      document.body.appendChild(div);\n",
              "\n",
              "      const buffers = [];\n",
              "      let downloaded = 0;\n",
              "\n",
              "      const channel = await google.colab.kernel.comms.open(id);\n",
              "      // Send a message to notify the kernel that we're ready.\n",
              "      channel.send({})\n",
              "\n",
              "      for await (const message of channel.messages) {\n",
              "        // Send a message to notify the kernel that we're ready.\n",
              "        channel.send({})\n",
              "        if (message.buffers) {\n",
              "          for (const buffer of message.buffers) {\n",
              "            buffers.push(buffer);\n",
              "            downloaded += buffer.byteLength;\n",
              "            progress.value = downloaded;\n",
              "          }\n",
              "        }\n",
              "      }\n",
              "      const blob = new Blob(buffers, {type: 'application/binary'});\n",
              "      const a = document.createElement('a');\n",
              "      a.href = window.URL.createObjectURL(blob);\n",
              "      a.download = filename;\n",
              "      div.appendChild(a);\n",
              "      a.click();\n",
              "      div.remove();\n",
              "    }\n",
              "  "
            ]
          },
          "metadata": {}
        },
        {
          "output_type": "display_data",
          "data": {
            "text/plain": [
              "<IPython.core.display.Javascript object>"
            ],
            "application/javascript": [
              "download(\"download_aeced919-72b4-48e6-9ee9-15562ab7d5e9\", \"ROC_NN_500.pdf\", 14076)"
            ]
          },
          "metadata": {}
        },
        {
          "output_type": "display_data",
          "data": {
            "text/plain": [
              "<Figure size 432x288 with 1 Axes>"
            ],
            "image/png": "[encoded data removed]"
          },
          "metadata": {
            "needs_background": "light"
          }
        },
        {
          "output_type": "stream",
          "name": "stdout",
          "text": [
            "Processing for N = 1000\n",
            "Fold 1 processed [20%]\n",
            "X_train shape: 4364\n",
            "X_test shape: 1092\n",
            "Fold 2 processed [40%]\n",
            "X_train shape: 4365\n",
            "X_test shape: 1091\n",
            "Fold 3 processed [60%]\n",
            "X_train shape: 4365\n",
            "X_test shape: 1091\n",
            "Fold 4 processed [80%]\n",
            "X_train shape: 4365\n",
            "X_test shape: 1091\n",
            "Fold 5 processed [100%]\n",
            "X_train shape: 4365\n",
            "X_test shape: 1091\n",
            "Misclassification rate: 0.09807516040329972\n"
          ]
        },
        {
          "output_type": "display_data",
          "data": {
            "text/plain": [
              "<IPython.core.display.Javascript object>"
            ],
            "application/javascript": [
              "\n",
              "    async function download(id, filename, size) {\n",
              "      if (!google.colab.kernel.accessAllowed) {\n",
              "        return;\n",
              "      }\n",
              "      const div = document.createElement('div');\n",
              "      const label = document.createElement('label');\n",
              "      label.textContent = `Downloading \"${filename}\": `;\n",
              "      div.appendChild(label);\n",
              "      const progress = document.createElement('progress');\n",
              "      progress.max = size;\n",
              "      div.appendChild(progress);\n",
              "      document.body.appendChild(div);\n",
              "\n",
              "      const buffers = [];\n",
              "      let downloaded = 0;\n",
              "\n",
              "      const channel = await google.colab.kernel.comms.open(id);\n",
              "      // Send a message to notify the kernel that we're ready.\n",
              "      channel.send({})\n",
              "\n",
              "      for await (const message of channel.messages) {\n",
              "        // Send a message to notify the kernel that we're ready.\n",
              "        channel.send({})\n",
              "        if (message.buffers) {\n",
              "          for (const buffer of message.buffers) {\n",
              "            buffers.push(buffer);\n",
              "            downloaded += buffer.byteLength;\n",
              "            progress.value = downloaded;\n",
              "          }\n",
              "        }\n",
              "      }\n",
              "      const blob = new Blob(buffers, {type: 'application/binary'});\n",
              "      const a = document.createElement('a');\n",
              "      a.href = window.URL.createObjectURL(blob);\n",
              "      a.download = filename;\n",
              "      div.appendChild(a);\n",
              "      a.click();\n",
              "      div.remove();\n",
              "    }\n",
              "  "
            ]
          },
          "metadata": {}
        },
        {
          "output_type": "display_data",
          "data": {
            "text/plain": [
              "<IPython.core.display.Javascript object>"
            ],
            "application/javascript": [
              "download(\"download_9d3b8400-ebdc-46f6-9921-44a723da1e3f\", \"ROC_NN_1000.pdf\", 13718)"
            ]
          },
          "metadata": {}
        },
        {
          "output_type": "display_data",
          "data": {
            "text/plain": [
              "<Figure size 432x288 with 1 Axes>"
            ],
            "image/png": "[encoded data removed]"
          },
          "metadata": {
            "needs_background": "light"
          }
        }
      ]
    },
    {
      "cell_type": "code",
      "execution_count": null,
      "metadata": {
        "colab": {
          "base_uri": "https://localhost:8080/",
          "height": 295
        },
        "id": "-8tn61T8E55E",
        "outputId": "e45cf0e8-c4d6-4645-e686-c72b8a042fcf"
      },
      "outputs": [
        {
          "output_type": "display_data",
          "data": {
            "text/plain": [
              "<IPython.core.display.Javascript object>"
            ],
            "application/javascript": [
              "\n",
              "    async function download(id, filename, size) {\n",
              "      if (!google.colab.kernel.accessAllowed) {\n",
              "        return;\n",
              "      }\n",
              "      const div = document.createElement('div');\n",
              "      const label = document.createElement('label');\n",
              "      label.textContent = `Downloading \"${filename}\": `;\n",
              "      div.appendChild(label);\n",
              "      const progress = document.createElement('progress');\n",
              "      progress.max = size;\n",
              "      div.appendChild(progress);\n",
              "      document.body.appendChild(div);\n",
              "\n",
              "      const buffers = [];\n",
              "      let downloaded = 0;\n",
              "\n",
              "      const channel = await google.colab.kernel.comms.open(id);\n",
              "      // Send a message to notify the kernel that we're ready.\n",
              "      channel.send({})\n",
              "\n",
              "      for await (const message of channel.messages) {\n",
              "        // Send a message to notify the kernel that we're ready.\n",
              "        channel.send({})\n",
              "        if (message.buffers) {\n",
              "          for (const buffer of message.buffers) {\n",
              "            buffers.push(buffer);\n",
              "            downloaded += buffer.byteLength;\n",
              "            progress.value = downloaded;\n",
              "          }\n",
              "        }\n",
              "      }\n",
              "      const blob = new Blob(buffers, {type: 'application/binary'});\n",
              "      const a = document.createElement('a');\n",
              "      a.href = window.URL.createObjectURL(blob);\n",
              "      a.download = filename;\n",
              "      div.appendChild(a);\n",
              "      a.click();\n",
              "      div.remove();\n",
              "    }\n",
              "  "
            ]
          },
          "metadata": {}
        },
        {
          "output_type": "display_data",
          "data": {
            "text/plain": [
              "<IPython.core.display.Javascript object>"
            ],
            "application/javascript": [
              "download(\"download_4d7ad37d-2bee-46f9-b553-63956d31d0e9\", \"neural_network_misclassification.pdf\", 13032)"
            ]
          },
          "metadata": {}
        },
        {
          "output_type": "display_data",
          "data": {
            "text/plain": [
              "<Figure size 432x288 with 1 Axes>"
            ],
            "image/png": "[encoded data removed]"
          },
          "metadata": {
            "needs_background": "light"
          }
        }
      ],
      "source": [
        "misclassification_rates_percent = [100*item for item in misclassification_rates]\n",
        "%matplotlib inline\n",
        "# Create a figure and axis\n",
        "fig, ax = plt.subplots()\n",
        "\n",
        "# Plot the data\n",
        "ax.plot(N_features, misclassification_rates_percent)\n",
        "\n",
        "# Add labels and title\n",
        "ax.set_xlabel('Number of features')\n",
        "ax.set_ylabel('Misclassification rate [%]')\n",
        "ax.set_title('Percentual of misclassified samples - Neural Network')\n",
        "\n",
        "# Display the plot\n",
        "plt.grid()\n",
        "plt.savefig('neural_network_misclassification.pdf', bbox_inches='tight')\n",
        "files.download('neural_network_misclassification.pdf')\n",
        "plt.show()"
      ]
    }
  ],
  "metadata": {
    "colab": {
      "provenance": []
    },
    "kernelspec": {
      "display_name": "Python 3",
      "name": "python3"
    },
    "language_info": {
      "name": "python"
    }
  },
  "nbformat": 4,
  "nbformat_minor": 0
}